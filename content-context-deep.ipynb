{
 "cells": [
  {
   "cell_type": "code",
   "execution_count": 1,
   "metadata": {
    "_cell_guid": "b1076dfc-b9ad-4769-8c92-a6c4dae69d19",
    "_uuid": "8f2839f25d086af736a60e9eeb907d3b93b6e0e5"
   },
   "outputs": [
    {
     "name": "stdout",
     "output_type": "stream",
     "text": [
      "['tensor-matrix', 'news-content-matrix', 'factor0']\n"
     ]
    }
   ],
   "source": [
    "# This Python 3 environment comes with many helpful analytics libraries installed\n",
    "# It is defined by the kaggle/python docker image: https://github.com/kaggle/docker-python\n",
    "# For example, here's several helpful packages to load in \n",
    "\n",
    "import numpy as np # linear algebra\n",
    "import pandas as pd # data processing, CSV file I/O (e.g. pd.read_csv)\n",
    "\n",
    "# Input data files are available in the \"../input/\" directory.\n",
    "# For example, running this (by clicking run or pressing Shift+Enter) will list the files in the input directory\n",
    "\n",
    "import os\n",
    "print(os.listdir(\"../input\"))\n",
    "\n",
    "# Any results you write to the current directory are saved as output."
   ]
  },
  {
   "cell_type": "code",
   "execution_count": 2,
   "metadata": {},
   "outputs": [],
   "source": [
    "filePath1='../input/factor0/factors0.npy'\n",
    "factor=np.load(filePath1)"
   ]
  },
  {
   "cell_type": "code",
   "execution_count": 3,
   "metadata": {},
   "outputs": [
    {
     "name": "stdout",
     "output_type": "stream",
     "text": [
      "(182, 3)\n"
     ]
    }
   ],
   "source": [
    "print(factor.shape)"
   ]
  },
  {
   "cell_type": "code",
   "execution_count": 4,
   "metadata": {},
   "outputs": [],
   "source": [
    "filePath2='../input/news-content-matrix/newsContent.csv'\n",
    "newsContent=pd.read_csv(filePath2,encoding='utf-8',header=-1)"
   ]
  },
  {
   "cell_type": "code",
   "execution_count": 5,
   "metadata": {},
   "outputs": [
    {
     "name": "stdout",
     "output_type": "stream",
     "text": [
      "(182, 1500)\n"
     ]
    }
   ],
   "source": [
    "print(newsContent.shape)"
   ]
  },
  {
   "cell_type": "code",
   "execution_count": 6,
   "metadata": {},
   "outputs": [],
   "source": [
    "#!pip install tensorly"
   ]
  },
  {
   "cell_type": "code",
   "execution_count": 7,
   "metadata": {},
   "outputs": [],
   "source": [
    "#import tensorly"
   ]
  },
  {
   "cell_type": "code",
   "execution_count": 8,
   "metadata": {},
   "outputs": [],
   "source": [
    "#T=tensorly.unfold(Tensor,0)\n",
    "#from tensorly.decomposition import parafac\n",
    "#factors = parafac(Tensor, rank=3)\n",
    "#for f in factors:\n",
    "#    print(f.shape)"
   ]
  },
  {
   "cell_type": "code",
   "execution_count": 9,
   "metadata": {},
   "outputs": [],
   "source": [
    "#print(factors[0].shape)"
   ]
  },
  {
   "cell_type": "code",
   "execution_count": 10,
   "metadata": {},
   "outputs": [],
   "source": [
    "X=np.concatenate((factor,newsContent),axis=1)"
   ]
  },
  {
   "cell_type": "code",
   "execution_count": 11,
   "metadata": {},
   "outputs": [
    {
     "name": "stdout",
     "output_type": "stream",
     "text": [
      "(182, 1503)\n"
     ]
    }
   ],
   "source": [
    "print(X.shape)"
   ]
  },
  {
   "cell_type": "code",
   "execution_count": 12,
   "metadata": {},
   "outputs": [
    {
     "name": "stderr",
     "output_type": "stream",
     "text": [
      "Using TensorFlow backend.\n"
     ]
    }
   ],
   "source": [
    "from keras.utils import np_utils"
   ]
  },
  {
   "cell_type": "code",
   "execution_count": 13,
   "metadata": {},
   "outputs": [],
   "source": [
    "Y=np.zeros(182)\n",
    "Y[91:182]=1"
   ]
  },
  {
   "cell_type": "code",
   "execution_count": 14,
   "metadata": {},
   "outputs": [],
   "source": [
    "from sklearn.model_selection import train_test_split\n",
    "X_train,X_test,Y_train,Y_test=train_test_split(X,Y,test_size=0.20,random_state=0,shuffle=True)"
   ]
  },
  {
   "cell_type": "code",
   "execution_count": 15,
   "metadata": {},
   "outputs": [
    {
     "name": "stdout",
     "output_type": "stream",
     "text": [
      "(145, 2)\n",
      "(37, 2)\n"
     ]
    }
   ],
   "source": [
    "Y_train = np_utils.to_categorical(Y_train,2)\n",
    "Y_test = np_utils.to_categorical(Y_test,2)\n",
    "print(Y_train.shape)\n",
    "print(Y_test.shape)"
   ]
  },
  {
   "cell_type": "code",
   "execution_count": 16,
   "metadata": {},
   "outputs": [],
   "source": [
    "from keras.models import Sequential\n",
    "from keras.layers import Dense,Dropout\n",
    "from keras.optimizers import SGD\n",
    "from keras.layers import LeakyReLU\n",
    "import time"
   ]
  },
  {
   "cell_type": "code",
   "execution_count": 17,
   "metadata": {},
   "outputs": [],
   "source": [
    "model = Sequential()"
   ]
  },
  {
   "cell_type": "code",
   "execution_count": 18,
   "metadata": {},
   "outputs": [
    {
     "name": "stderr",
     "output_type": "stream",
     "text": [
      "/opt/conda/lib/python3.6/site-packages/keras/activations.py:211: UserWarning: Do not pass a layer instance (such as LeakyReLU) as the activation argument of another layer. Instead, advanced activation layers should be used just like any other layer in a model.\n",
      "  identifier=identifier.__class__.__name__))\n"
     ]
    }
   ],
   "source": [
    "input_shape = (1503,)\n",
    "model.add(Dense(128, activation = LeakyReLU(alpha=0.1),kernel_initializer='he_normal',input_shape=input_shape))\n",
    "model.add(Dropout(0.2))\n",
    "model.add(Dense(128, activation=LeakyReLU(alpha=0.1),kernel_initializer='he_normal'))\n",
    "#model.add(Dense(2048, activation='relu'))\n",
    "model.add(Dropout(0.2))\n",
    "model.add(Dense(32, activation=LeakyReLU(alpha=0.1),kernel_initializer='he_normal'))\n",
    "model.add(Dropout(0.2))\n",
    "model.add(Dense(2, activation='softmax',kernel_initializer='he_normal'))"
   ]
  },
  {
   "cell_type": "code",
   "execution_count": 19,
   "metadata": {},
   "outputs": [
    {
     "name": "stdout",
     "output_type": "stream",
     "text": [
      "_________________________________________________________________\n",
      "Layer (type)                 Output Shape              Param #   \n",
      "=================================================================\n",
      "dense_1 (Dense)              (None, 128)               192512    \n",
      "_________________________________________________________________\n",
      "dropout_1 (Dropout)          (None, 128)               0         \n",
      "_________________________________________________________________\n",
      "dense_2 (Dense)              (None, 128)               16512     \n",
      "_________________________________________________________________\n",
      "dropout_2 (Dropout)          (None, 128)               0         \n",
      "_________________________________________________________________\n",
      "dense_3 (Dense)              (None, 32)                4128      \n",
      "_________________________________________________________________\n",
      "dropout_3 (Dropout)          (None, 32)                0         \n",
      "_________________________________________________________________\n",
      "dense_4 (Dense)              (None, 2)                 66        \n",
      "=================================================================\n",
      "Total params: 213,218\n",
      "Trainable params: 213,218\n",
      "Non-trainable params: 0\n",
      "_________________________________________________________________\n"
     ]
    }
   ],
   "source": [
    "model.summary()"
   ]
  },
  {
   "cell_type": "code",
   "execution_count": 20,
   "metadata": {},
   "outputs": [],
   "source": [
    "model.compile(loss='binary_crossentropy', optimizer= 'Adam',metrics=['accuracy'])"
   ]
  },
  {
   "cell_type": "code",
   "execution_count": 21,
   "metadata": {},
   "outputs": [
    {
     "name": "stdout",
     "output_type": "stream",
     "text": [
      "Train on 145 samples, validate on 37 samples\n",
      "Epoch 1/20\n",
      "145/145 [==============================] - 1s 4ms/step - loss: 0.8378 - acc: 0.4897 - val_loss: 0.6465 - val_acc: 0.5676\n",
      "Epoch 2/20\n",
      "145/145 [==============================] - 0s 183us/step - loss: 0.5564 - acc: 0.7379 - val_loss: 0.5534 - val_acc: 0.7027\n",
      "Epoch 3/20\n",
      "145/145 [==============================] - 0s 175us/step - loss: 0.4221 - acc: 0.8621 - val_loss: 0.5019 - val_acc: 0.7568\n",
      "Epoch 4/20\n",
      "145/145 [==============================] - 0s 170us/step - loss: 0.3515 - acc: 0.8897 - val_loss: 0.4455 - val_acc: 0.7838\n",
      "Epoch 5/20\n",
      "145/145 [==============================] - 0s 172us/step - loss: 0.2546 - acc: 0.9379 - val_loss: 0.4192 - val_acc: 0.8108\n",
      "Epoch 6/20\n",
      "145/145 [==============================] - 0s 171us/step - loss: 0.2296 - acc: 0.9586 - val_loss: 0.3920 - val_acc: 0.8649\n",
      "Epoch 7/20\n",
      "145/145 [==============================] - 0s 174us/step - loss: 0.1287 - acc: 0.9793 - val_loss: 0.3891 - val_acc: 0.8649\n",
      "Epoch 8/20\n",
      "145/145 [==============================] - 0s 182us/step - loss: 0.1175 - acc: 0.9724 - val_loss: 0.3887 - val_acc: 0.8649\n",
      "Epoch 9/20\n",
      "145/145 [==============================] - 0s 189us/step - loss: 0.0687 - acc: 0.9931 - val_loss: 0.3798 - val_acc: 0.8919\n",
      "Epoch 10/20\n",
      "145/145 [==============================] - 0s 175us/step - loss: 0.0584 - acc: 0.9931 - val_loss: 0.3854 - val_acc: 0.9189\n",
      "Epoch 11/20\n",
      "145/145 [==============================] - 0s 170us/step - loss: 0.0418 - acc: 1.0000 - val_loss: 0.3976 - val_acc: 0.8919\n",
      "Epoch 12/20\n",
      "145/145 [==============================] - 0s 172us/step - loss: 0.0318 - acc: 1.0000 - val_loss: 0.4018 - val_acc: 0.8649\n",
      "Epoch 13/20\n",
      "145/145 [==============================] - 0s 171us/step - loss: 0.0237 - acc: 1.0000 - val_loss: 0.4087 - val_acc: 0.8649\n",
      "Epoch 14/20\n",
      "145/145 [==============================] - 0s 167us/step - loss: 0.0223 - acc: 1.0000 - val_loss: 0.4120 - val_acc: 0.9189\n",
      "Epoch 15/20\n",
      "145/145 [==============================] - 0s 175us/step - loss: 0.0215 - acc: 1.0000 - val_loss: 0.4175 - val_acc: 0.9189\n",
      "Epoch 16/20\n",
      "145/145 [==============================] - 0s 195us/step - loss: 0.0136 - acc: 1.0000 - val_loss: 0.4236 - val_acc: 0.9189\n",
      "Epoch 17/20\n",
      "145/145 [==============================] - 0s 181us/step - loss: 0.0189 - acc: 1.0000 - val_loss: 0.4280 - val_acc: 0.9189\n",
      "Epoch 18/20\n",
      "145/145 [==============================] - 0s 178us/step - loss: 0.0097 - acc: 1.0000 - val_loss: 0.4306 - val_acc: 0.9189\n",
      "Epoch 19/20\n",
      "145/145 [==============================] - 0s 173us/step - loss: 0.0080 - acc: 1.0000 - val_loss: 0.4349 - val_acc: 0.9189\n",
      "Epoch 20/20\n",
      "145/145 [==============================] - 0s 169us/step - loss: 0.0102 - acc: 1.0000 - val_loss: 0.4399 - val_acc: 0.9189\n"
     ]
    }
   ],
   "source": [
    "history = model.fit(X_train,Y_train, batch_size=32, epochs=20,verbose=1,validation_data=(X_test,Y_test))"
   ]
  },
  {
   "cell_type": "code",
   "execution_count": 22,
   "metadata": {},
   "outputs": [
    {
     "data": {
      "text/plain": [
       "<matplotlib.legend.Legend at 0x7f67140b2b70>"
      ]
     },
     "execution_count": 22,
     "metadata": {},
     "output_type": "execute_result"
    },
    {
     "data": {
      "image/png": "[encoded data removed]",
      "text/plain": [
       "<Figure size 432x288 with 1 Axes>"
      ]
     },
     "metadata": {
      "needs_background": "light"
     },
     "output_type": "display_data"
    },
    {
     "data": {
      "image/png": "[encoded data removed]",
      "text/plain": [
       "<Figure size 432x288 with 1 Axes>"
      ]
     },
     "metadata": {
      "needs_background": "light"
     },
     "output_type": "display_data"
    }
   ],
   "source": [
    "import matplotlib.pyplot as plt\n",
    "plt.figure()\n",
    "plt.plot(history.history['acc'])\n",
    "plt.plot(history.history['val_acc'])\n",
    "plt.title('Model Accuracy')\n",
    "plt.xlabel('Epochs')\n",
    "plt.ylabel('Accuracy')\n",
    "plt.legend(['Training Accuracy','Validation Accuracy'],loc='best')\n",
    "plt.figure()\n",
    "plt.plot(history.history['loss'])\n",
    "plt.plot(history.history['val_loss'])\n",
    "plt.title('Model Loss')\n",
    "plt.xlabel('Epochs')\n",
    "plt.ylabel('Loss')\n",
    "plt.legend(['Training Loss','Validation Loss'],loc='best')"
   ]
  },
  {
   "cell_type": "code",
   "execution_count": 23,
   "metadata": {},
   "outputs": [],
   "source": [
    "#from xgboost import XGBClassifier\n",
    "#classifier = XGBClassifier()\n",
    "#classifier.fit(X_train, Y_train)\n",
    "#Y_pred = classifier.predict(X_test)"
   ]
  },
  {
   "cell_type": "code",
   "execution_count": 24,
   "metadata": {},
   "outputs": [],
   "source": [
    "#from sklearn.metrics import confusion_matrix\n",
    "#cm = confusion_matrix(Y_test, Y_pred)\n",
    "#print(cm)"
   ]
  }
 ],
 "metadata": {
  "kernelspec": {
   "display_name": "Python 3",
   "language": "python",
   "name": "python3"
  },
  "language_info": {
   "codemirror_mode": {
    "name": "ipython",
    "version": 3
   },
   "file_extension": ".py",
   "mimetype": "text/x-python",
   "name": "python",
   "nbconvert_exporter": "python",
   "pygments_lexer": "ipython3",
   "version": "3.6.6"
  }
 },
 "nbformat": 4,
 "nbformat_minor": 1
}
